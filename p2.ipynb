{
  "cells": [
    {
      "cell_type": "markdown",
      "metadata": {
        "id": "view-in-github",
        "colab_type": "text"
      },
      "source": [
        "<a href=\"https://colab.research.google.com/github/bogdanjianu150/MaskRCNNv2/blob/main/p2.ipynb\" target=\"_parent\"><img src=\"https://colab.research.google.com/assets/colab-badge.svg\" alt=\"Open In Colab\"/></a>"
      ]
    },
    {
      "cell_type": "code",
      "execution_count": 1,
      "metadata": {
        "colab": {
          "base_uri": "https://localhost:8080/"
        },
        "id": "1HaqFcgADJ36",
        "outputId": "40b75bcb-c7f5-4988-e297-cf235bb13f01"
      },
      "outputs": [
        {
          "output_type": "stream",
          "name": "stdout",
          "text": [
            "Mounted at /content/drive\n"
          ]
        }
      ],
      "source": [
        "from google.colab import drive \n",
        "drive.mount('/content/drive')"
      ]
    },
    {
      "cell_type": "code",
      "execution_count": null,
      "metadata": {
        "id": "IU_XdZ7-Dnv7"
      },
      "outputs": [],
      "source": [
        "!git clone \"https://github.com/SriRamGovardhanam/wastedata-Mask_RCNN-multiple-classes.git\""
      ]
    },
    {
      "cell_type": "code",
      "execution_count": 2,
      "metadata": {
        "id": "3-TTfth7Dzop"
      },
      "outputs": [],
      "source": [
        "import shutil, os\n",
        "def copytree(src = '/content/wastedata-Mask_RCNN-multiple-classes/main/Mask_RCNN', dst = '/content/', symlinks=False, ignore=None):\n",
        "    try:\n",
        "      shutil.rmtree('/content/.ipynb_checkpoints')\n",
        "    except:\n",
        "      pass\n",
        "    for item in os.listdir(src):\n",
        "      s = os.path.join(src, item)\n",
        "      d = os.path.join(dst, item)\n",
        "      if os.path.isdir(s):\n",
        "        shutil.copytree(s, d, symlinks, ignore)\n",
        "      else:\n",
        "        shutil.copy2(s, d)\n",
        "copytree()"
      ]
    },
    {
      "cell_type": "code",
      "execution_count": null,
      "metadata": {
        "id": "wQ5wUWi_EZ1I"
      },
      "outputs": [],
      "source": [
        "!pip install tensorflow==1.15.0\n",
        "!pip install keras==2.2.5\n",
        "!pip install h5py==2.10.0\n",
        "!pip install -U scikit-image==0.16.2"
      ]
    },
    {
      "cell_type": "code",
      "execution_count": 1,
      "metadata": {
        "id": "mMNYqdPQEAlK",
        "colab": {
          "base_uri": "https://localhost:8080/"
        },
        "outputId": "a5d74283-aabd-4dd2-b192-7e62bd75a1b7"
      },
      "outputs": [
        {
          "output_type": "stream",
          "name": "stderr",
          "text": [
            "Using TensorFlow backend.\n"
          ]
        }
      ],
      "source": [
        "import os\n",
        "import sys\n",
        "import json\n",
        "import datetime\n",
        "import numpy as np\n",
        "import skimage.draw\n",
        "import cv2\n",
        "import re\n",
        "import matplotlib.pyplot as plt\n",
        "# Root directory of the project\n",
        "ROOT_DIR = os.path.abspath(\"/content/drive/MyDrive/Mask_RCNN\")\n",
        "# Import Mask RCNN\n",
        "sys.path.append(ROOT_DIR)  # To find local version of the library\n",
        "from mrcnn.visualize import display_instances\n",
        "from mrcnn.config import Config\n",
        "from mrcnn import model as modellib, utils\n",
        "# Path to trained weights file\n",
        "COCO_WEIGHTS_PATH = os.path.join(\"/content/drive/MyDrive/mask_rcnn_coco.h5\")\n",
        "# Directory to save logs and model checkpoints\n",
        "DEFAULT_LOGS_DIR = os.path.join(ROOT_DIR, \"logs\")\n",
        "class CustomConfig(Config):\n",
        "    \"\"\"Configuration for training on the dataset.\n",
        "    Derives from the base Config class and overrides some values.\n",
        "    \"\"\"\n",
        "    # Give the configuration a recognizable name\n",
        "    NAME = \"object\"\n",
        "    \n",
        "    # We use a GPU with 12GB memory, which can fit two images.\n",
        "    # Adjust down if you use a smaller GPU.\n",
        "    IMAGES_PER_GPU = 2\n",
        "    # Number of classes (including background)\n",
        "    NUM_CLASSES = 7  # Background + (Horse and Man)\n",
        "    # Number of training steps per epoch\n",
        "    STEPS_PER_EPOCH = 100\n",
        "    # Skip detections with < 90% confidence\n",
        "    DETECTION_MIN_CONFIDENCE = 0.9"
      ]
    },
    {
      "cell_type": "code",
      "execution_count": 10,
      "metadata": {
        "id": "-yXzmQVQEsW_"
      },
      "outputs": [],
      "source": [
        "dataset_path = os.path.abspath(\"/content/drive/MyDrive/trashnet\")\n",
        "images_path = os.path.abspath(\"/content/drive/MyDrive/trashnet/data_tv\")\n",
        "#images_path = os.path.abspath(\"/content/drive/MyDrive/trashnet/dataset\")\n",
        "\n",
        "masks_path = os.path.sep.join([dataset_path, \"masks_modif.json\"])"
      ]
    },
    {
      "cell_type": "code",
      "execution_count": 9,
      "metadata": {
        "id": "pLXxMB7jFJHI"
      },
      "outputs": [],
      "source": [
        "class CustomDataset(utils.Dataset):\n",
        "  def load_custom(self, dataset, subset):\n",
        "        \"\"\"Load a subset of the Horse-Man dataset.\n",
        "        dataset_dir: Root directory of the dataset.\n",
        "        subset: Subset to load: train or val\n",
        "        \"\"\"\n",
        "        # Add classes. We have only one class to add.\n",
        "        self.add_class(\"object\", 1, \"cardboard\")\n",
        "        self.add_class(\"object\", 2, \"glass\")\n",
        "        self.add_class(\"object\", 3, \"paper\")\n",
        "        self.add_class(\"object\", 4, \"plastic\")\n",
        "        self.add_class(\"object\", 5, \"metal\")\n",
        "        self.add_class(\"object\", 6, \"trash\")\n",
        "        # self.add_class(\"object\", 3, \"xyz\") #likewise\n",
        "\n",
        "        # Train or validation dataset?\n",
        "        assert subset in [\"train\", \"val\"]\n",
        "        dataset_dir = os.path.join(dataset, subset)\n",
        "        #image_path = os.listdir(self.dataset_dir)\n",
        "        # Load annotations\n",
        "        # VGG Image Annotator saves each image in the form:\n",
        "        # { 'filename': '28503151_5b5b7ec140_b.jpg',\n",
        "        #   'regions': {\n",
        "        #       '0': {\n",
        "        #           'region_attributes': {},\n",
        "        #           'shape_attributes': {\n",
        "        #               'all_points_x': [...],\n",
        "        #               'all_points_y': [...],\n",
        "        #               'name': 'polygon'}},\n",
        "        #       ... more regions ...\n",
        "        #   },\n",
        "        #   'size': 100202\n",
        "        # }\n",
        "        # We mostly care about the x and y coordinates of each region\n",
        "        annotations1 = json.load(open(os.path.join(masks_path)))\n",
        "        # print(annotations1)\n",
        "        annotations = list(annotations1.values())  # don't need the dict keys\n",
        "        image_path = os.listdir(dataset_dir)\n",
        "        #print('apelez in')\n",
        "\n",
        "      #dataset_dir = os.path.join(images_path, subset)\n",
        "        data = os.listdir(dataset_dir)\n",
        "       #print(data)\n",
        "       ##print(dataset_dir)\n",
        "        images = []\n",
        "        for i in data:\n",
        "      \n",
        "       #image_path = self.imagePaths[i]\n",
        "        #filename = image_path[i].split(os.path.sep)[-1]\n",
        "      \n",
        "      \n",
        "          k = dataset_dir + '/' + str(i)\n",
        "          filename = k.split(os.path.sep)[-1]\n",
        "        #print(filename)\n",
        "          images.append(filename)\n",
        "\n",
        "        # The VIA tool saves images in the JSON even if they don't have any\n",
        "        # annotations. Skip unannotated images.\n",
        "        annotations = [a for a in annotations if a['regions']]\n",
        "        #images = load_image(dataset_dir)\n",
        "        #print(dataset_dir)\n",
        "        #print(images)\n",
        "        # Add images\n",
        "        for a in annotations:\n",
        "            # print(a)\n",
        "            # Get the x, y coordinaets of points of the polygons that make up\n",
        "            # the outline of each object instance. There are stores in the\n",
        "            # shape_attributes (see json format above)\n",
        "            polygons = [r['shape_attributes'] for r in a['regions']] \n",
        "            objects_init = a['filename'] \n",
        "            res = [re.findall(r'(\\w+?)(\\d+)', objects_init)[0] ]\n",
        "            objects = [res[0][0]]\n",
        "            print(\"objects:\",objects)\n",
        "            name_dict = {\"cardboard\": 1,\"glass\": 2, \"paper\":3, \"plastic\":4, \"metal\":5, \"trash\":6} #,\"xyz\": 3}\n",
        "            # key = tuple(name_dict)\n",
        "            num_ids = [name_dict.get(a) for a in objects]\n",
        "     \n",
        "            # num_ids = [int(n['Event']) for n in objects]\n",
        "            # load_mask() needs the image size to convert polygons to masks.\n",
        "            # Unfortunately, VIA doesn't include it in JSON, so we must read\n",
        "            # the image. This is only managable since the dataset is tiny.\n",
        "            print(\"numids\",num_ids)\n",
        "            #image_path = os.path.join((dataset_dir, #a['filename']\n",
        "            \n",
        "                                      #i) for i in image_path)\n",
        "            \n",
        "            for i in images:\n",
        "              if i == a['filename']:\n",
        "\n",
        "                #print(i)\n",
        "            #for i in images:\n",
        "            #k = self.dataset_dir + '/' + str(i)\n",
        "            #filename = k.split(os.path.sep)[-1]\n",
        "                p = dataset_dir + \"/\" + str(i)\n",
        "                image = skimage.io.imread(p)\n",
        "                \n",
        "                height, width = image.shape[:2]\n",
        "\n",
        "                self.add_image(\n",
        "                \"object\",  ## for a single class just add the name here\n",
        "                image_id=a[\"filename\"],  # use file name as a unique image id\n",
        "                path = p,\n",
        "                width=width, height=height,\n",
        "                polygons=polygons,\n",
        "                num_ids = num_ids\n",
        "                )\n",
        "        #images = []\n",
        "        #print(images)\n",
        "  def load_mask(self, image_id):\n",
        "        \"\"\"Generate instance masks for an image.\n",
        "       Returns:\n",
        "        masks: A bool array of shape [height, width, instance count] with\n",
        "            one mask per instance.\n",
        "        class_ids: a 1D array of class IDs of the instance masks.\n",
        "        \"\"\"\n",
        "        # If not a Horse/Man dataset image, delegate to parent class.\n",
        "        image_info = self.image_info[image_id]\n",
        "        if image_info[\"source\"] != \"object\":\n",
        "            return super(self.__class__, self).load_mask(image_id)\n",
        "\n",
        "        # Convert polygons to a bitmap mask of shape\n",
        "        # [height, width, instance_count]\n",
        "        info = self.image_info[image_id]\n",
        "        if info[\"source\"] != \"object\":\n",
        "            return super(self.__class__, self).load_mask(image_id)\n",
        "        num_ids = info['num_ids']\n",
        "        mask = np.zeros([info[\"height\"], info[\"width\"], len(info[\"polygons\"])],\n",
        "                        dtype=np.uint8)\n",
        "        for i, p in enumerate(info[\"polygons\"]):\n",
        "            # Get indexes of pixels inside the polygon and set them to 1\n",
        "        \trr, cc = skimage.draw.polygon(p['all_points_y'], p['all_points_x'])\n",
        "\n",
        "        \tmask[rr, cc, i] = 1\n",
        "\n",
        "        # Return mask, and array of class IDs of each instance. Since we have\n",
        "        # one class ID only, we return an array of 1s\n",
        "        # Map class names to class IDs.\n",
        "        num_ids = np.array(num_ids, dtype=np.int32)\n",
        "        return mask , num_ids #np.ones([mask.shape[-1]], dtype=np.int32)\n",
        "\n",
        "  def image_reference(self, image_id):\n",
        "        \"\"\"Return the path of the image.\"\"\"\n",
        "        info = self.image_info[image_id]\n",
        "        if info[\"source\"] == \"object\":\n",
        "            return info[\"path\"]\n",
        "        else:\n",
        "            super(self.__class__, self).image_reference(image_id)"
      ]
    },
    {
      "cell_type": "code",
      "execution_count": 2,
      "metadata": {
        "id": "HAyw5gQOHP84"
      },
      "outputs": [],
      "source": [
        "def train(model):\n",
        "    \"\"\"Train the model.\"\"\"\n",
        "    # Training dataset.\n",
        "    dataset_train = CustomDataset()\n",
        "    dataset_train.load_custom(images_path, \"train\")\n",
        "    #dataset_train.load_custom(images_path)\n",
        "    dataset_train.prepare()\n",
        "\n",
        "    # Validation dataset\n",
        "    dataset_val = CustomDataset()\n",
        "    dataset_val.load_custom(images_path, \"val\")\n",
        "    dataset_val.prepare()\n",
        "\n",
        "    # *** This training schedule is an example. Update to your needs ***\n",
        "    # Since we're using a very small dataset, and starting from\n",
        "    # COCO trained weights, we don't need to train too long. Also,\n",
        "    # no need to train all layers, just the heads should do it.\n",
        "    print(\"Training network heads\")\n",
        "    model.train(dataset_train, dataset_val,\n",
        "                learning_rate=config.LEARNING_RATE,\n",
        "                epochs=10,\n",
        "                layers='heads')"
      ]
    },
    {
      "cell_type": "code",
      "execution_count": null,
      "metadata": {
        "id": "P_glPS25QVIU"
      },
      "outputs": [],
      "source": [
        "config = CustomConfig()\n",
        "model = modellib.MaskRCNN(mode=\"training\", config=config,\n",
        "                                  model_dir=DEFAULT_LOGS_DIR)\n",
        "\n",
        "weights_path = COCO_WEIGHTS_PATH\n",
        "        # Download weights file\n",
        "if not os.path.exists(weights_path):\n",
        "  utils.download_trained_weights(weights_path)\n",
        "\n",
        "model.load_weights(weights_path, by_name=True, exclude=[\n",
        "            \"mrcnn_class_logits\", \"mrcnn_bbox_fc\",\n",
        "            \"mrcnn_bbox\", \"mrcnn_mask\"])"
      ]
    },
    {
      "cell_type": "code",
      "execution_count": null,
      "metadata": {
        "id": "HAUpeCEzhhFW"
      },
      "outputs": [],
      "source": [
        "!nvidia-smi"
      ]
    },
    {
      "cell_type": "code",
      "source": [
        "dataset_train = CustomDataset()\n",
        "dataset_train.load_custom(images_path, \"train\")\n",
        "#dataset_train.load_custom(images_path)\n",
        "dataset_train.prepare()"
      ],
      "metadata": {
        "id": "jq95rRnKrWCO"
      },
      "execution_count": null,
      "outputs": []
    },
    {
      "cell_type": "code",
      "source": [
        "dataset_val = CustomDataset()\n",
        "dataset_val.load_custom(images_path,  \"val\")\n",
        "dataset_val.prepare()"
      ],
      "metadata": {
        "id": "Dfh8H43uraEu"
      },
      "execution_count": null,
      "outputs": []
    },
    {
      "cell_type": "code",
      "source": [
        "config = CustomConfig()\n",
        "config.display()\n"
      ],
      "metadata": {
        "id": "a_KMpxMaHyjF"
      },
      "execution_count": null,
      "outputs": []
    },
    {
      "cell_type": "code",
      "source": [
        "model.train(dataset_train, dataset_val,\n",
        "                learning_rate=config.LEARNING_RATE,\n",
        "                epochs=10,\n",
        "                layers='heads')"
      ],
      "metadata": {
        "id": "zLYryJvmv2Xr"
      },
      "execution_count": null,
      "outputs": []
    },
    {
      "cell_type": "code",
      "source": [
        "class InferenceConfig(CustomConfig):\n",
        "  GPU_COUNT = 1\n",
        "  IMAGES_PER_GPU = 1\n",
        "  DETECTION_MIN_CONFIDENCE = 0.7"
      ],
      "metadata": {
        "id": "6E-R_awKVYnR"
      },
      "execution_count": 5,
      "outputs": []
    },
    {
      "cell_type": "code",
      "source": [
        "config = InferenceConfig()\n",
        "config.display()"
      ],
      "metadata": {
        "id": "CQKIdhRFV_Dh"
      },
      "execution_count": null,
      "outputs": []
    },
    {
      "cell_type": "code",
      "source": [
        "dataset = CustomDataset()\n",
        "dataset.load_custom(images_path, \"val\")\n",
        "dataset.prepare()\n",
        "print(\"Images: {}\\nClasses: {}\".format(len(dataset.image_ids), dataset.class_names))"
      ],
      "metadata": {
        "id": "cf9kCbNweAXg"
      },
      "execution_count": null,
      "outputs": []
    },
    {
      "cell_type": "code",
      "source": [
        "MODEL_DIR = '/content/drive/MyDrive/Mask_RCNN/logs'\n",
        "model = modellib.MaskRCNN(mode=\"inference\", model_dir=MODEL_DIR, config=config)\n",
        "weights_path = model.find_last()\n",
        "print(\"Loading weights \", weights_path)\n",
        "model.load_weights(weights_path, by_name=True)\n"
      ],
      "metadata": {
        "colab": {
          "base_uri": "https://localhost:8080/"
        },
        "id": "DWe6Z12sYDuR",
        "outputId": "737ff24b-129e-4ba3-94df-4a531df8f2b5"
      },
      "execution_count": 28,
      "outputs": [
        {
          "output_type": "stream",
          "name": "stdout",
          "text": [
            "Loading weights  /content/drive/MyDrive/Mask_RCNN/logs/object20220320T1635/mask_rcnn_object_0010.h5\n",
            "Re-starting from epoch 10\n"
          ]
        }
      ]
    },
    {
      "cell_type": "code",
      "source": [
        "def get_ax(rows=1, cols=1, size=16):\n",
        "  _, ax = plt.subplots(rows, cols, figsize=(size*cols, size*rows))\n",
        "  return ax"
      ],
      "metadata": {
        "id": "kKAD1rpAltce"
      },
      "execution_count": 29,
      "outputs": []
    },
    {
      "cell_type": "code",
      "source": [
        "import os\n",
        "import sys\n",
        "import random\n",
        "import math\n",
        "import re\n",
        "import time\n",
        "import numpy as np\n",
        "import matplotlib\n",
        "import matplotlib.pyplot as plt\n",
        "import matplotlib.patches as patches\n",
        "import matplotlib.image as mpimg\n",
        "from mrcnn import utils\n",
        "from mrcnn import visualize\n",
        "from mrcnn.visualize import display_images\n",
        "import mrcnn.model as modellib\n",
        "from mrcnn.model import log\n",
        "\n",
        "def get_ax(rows=1, cols=1, size=16):\n",
        "  _, ax = plt.subplots(rows, cols, figsize=(size*cols, size*rows))\n",
        "  return ax\n",
        "\n",
        "image_id = random.choice(dataset.image_ids)\n",
        "print(image_id)\n",
        "image, image_meta, gt_class_id, gt_bbox, gt_mask =\\\n",
        "  modellib.load_image_gt(dataset, config, image_id, use_mini_mask=False)\n",
        "info = dataset.image_info[image_id]\n",
        "print(\"image ID: {}.{} ({}) {}\".format(info[\"source\"], info[\"id\"], image_id,dataset.image_reference(image_id)))\n",
        "# Run object detection\n",
        "results = model.detect([image], verbose=1)\n",
        "# Display results\n",
        "ax = get_ax(1)\n",
        "r = results[0]\n",
        "visualize.display_instances(image, r['rois'], r['masks'], r['class_ids'], dataset.class_names, r['scores'], ax=ax, title=\"Predictions\")\n",
        "log(\"gt_class_id\", gt_class_id)\n",
        "log(\"gt_bbox\", gt_bbox)\n",
        "log(\"gt_mask\", gt_mask)\n",
        "\n",
        "# Run object detection\n",
        "path_to_new_image = '/content/drive/MyDrive/trashnet/predictie/val/cardboard10.jpg'\n",
        "image1 = mpimg.imread(path_to_new_image)\n",
        "print(len([image1]))\n",
        "results1 = model.detect([image1], verbose=1)\n",
        "# Display results\n",
        "ax = get_ax(1)\n",
        "r1 = results1[0]\n",
        "visualize.display_instances(image1, r1['rois'], r1['masks'], r1['class_ids'],\n",
        "dataset.class_names, r1['scores'], ax=ax, title=\"Predictions1\")"
      ],
      "metadata": {
        "id": "cSPvuaCBlWTV"
      },
      "execution_count": null,
      "outputs": []
    }
  ],
  "metadata": {
    "colab": {
      "name": "p2.ipynb",
      "provenance": [],
      "collapsed_sections": [],
      "mount_file_id": "170XvC6U6RIVGALwwUJBtY1u4xXBFbpc5",
      "authorship_tag": "ABX9TyM4h2cMei2N+o8NDYBEMmjl",
      "include_colab_link": true
    },
    "kernelspec": {
      "display_name": "Python 3",
      "name": "python3"
    },
    "language_info": {
      "name": "python"
    }
  },
  "nbformat": 4,
  "nbformat_minor": 0
}